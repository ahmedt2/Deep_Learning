{
 "cells": [
  {
   "cell_type": "markdown",
   "metadata": {},
   "source": [
    "# Spam-Ham Decision Trees"
   ]
  },
  {
   "cell_type": "markdown",
   "metadata": {},
   "source": [
    "#### IMPORTS :"
   ]
  },
  {
   "cell_type": "code",
   "execution_count": 1,
   "metadata": {
    "collapsed": false
   },
   "outputs": [],
   "source": [
    "import scipy.io as sio\n",
    "import numpy as np\n",
    "import sklearn\n",
    "from matplotlib import pyplot as plt\n",
    "from math import e\n",
    "from math import log\n",
    "from sklearn.metrics import classification_report\n",
    "from sklearn.model_selection import train_test_split\n",
    "from sklearn import preprocessing\n",
    "from sys import maxsize\n",
    "from scipy import stats\n",
    "from sklearn.tree import DecisionTreeClassifier, export_graphviz\n",
    "from sklearn.preprocessing import OneHotEncoder"
   ]
  },
  {
   "cell_type": "markdown",
   "metadata": {},
   "source": [
    "#### DATA LOADING:"
   ]
  },
  {
   "cell_type": "code",
   "execution_count": 3,
   "metadata": {
    "collapsed": false
   },
   "outputs": [],
   "source": [
    "y_t = []\n",
    "for k in range(len(y)):\n",
    "    y_t.append([1 if i == y[k] else 0 for i in range(26)])\n",
    "y_t = np.array(y_t)\n",
    "\n",
    "data = sio.loadmat(\"letters_data.mat\") #/Users/AhmedThabet/Desktop/school/189/HOMEWORK/HW5/spam_ham/\n",
    "X = data['train_x']\n",
    "X = np.insert(X, X.shape[1], 1, axis=1)\n",
    "# X = preprocessing.scale(X)\n",
    "# y = data['train_y']\n",
    "y = y_t\n",
    "\n",
    "# y = y.reshape((23702, 1))\n",
    "X_train, X_test, y_train, y_test = \\\n",
    "    train_test_split(X, y, test_size=0.8, random_state=43)"
   ]
  },
  {
   "cell_type": "markdown",
   "metadata": {},
   "source": [
    "### CLASSES :"
   ]
  },
  {
   "cell_type": "markdown",
   "metadata": {},
   "source": [
    "####    NODE :"
   ]
  },
  {
   "cell_type": "code",
   "execution_count": 5,
   "metadata": {
    "collapsed": false
   },
   "outputs": [],
   "source": [
    "class Neural_Network():\n",
    "    def __init__(self):\n",
    "        self.input_layer = 784\n",
    "        self.hidden_layer = 200\n",
    "        self.output_layer = 26\n",
    "\n",
    "        self.V = np.random.randn(self.hidden_layer, self.input_layer + 1)\n",
    "        self.W = np.random.randn(self.output_layer, self.hidden_layer + 1)\n",
    "\n",
    "    def for_pass(self, X): # X.shape = (785, 1)\n",
    "        self.Z1 = np.dot(self.V, X)\n",
    "        self.h = tanh(self.Z1)\n",
    "        self.h = self.h.reshape((1, 200))\n",
    "        _h = np.insert(self.h, self.h.shape[1], 1, axis=1)\n",
    "        _h = _h.reshape((201, 1))\n",
    "        self._h = _h\n",
    "        self.h = self.h.reshape((200, 1))\n",
    "        self.Z2 = np.dot(self.W, _h)\n",
    "        Z = softmax(self.Z2)\n",
    "        return np.array(Z)\n",
    "\n",
    "    def back_pass(self, X, y):\n",
    "        self.Z = self.for_pass(X)\n",
    "        W_error = np.zeros(self.W.shape)\n",
    "        for pop_W in range(26):\n",
    "            _in = np.sum(np.multiply(y, self.Z[pop_W]))\n",
    "            _in = _in - y[pop_W]\n",
    "            _in = _in * self._h\n",
    "            errw = _in.reshape((1, _in.shape[0]))\n",
    "            W_error[pop_W]  = errw\n",
    "            \n",
    "        once = np.dot(self.W.T, self.Z)\n",
    "        f, s = 0, 0\n",
    "        V_error = np.zeros(self.V.shape)\n",
    "        once = np.dot(self.W.T, self.Z)\n",
    "        for pop_V in range(200):\n",
    "            f = np.sum(np.multiply(y, once), axis = 1)\n",
    "            s = np.sum(np.dot(y.reshape((1,26)), N.W),axis = 0)\n",
    "            errv = f - s\n",
    "            temp = [1 - (self.h[pop_V])**2] * X\n",
    "            errv = errv[pop_V] * temp\n",
    "            V_error[pop_V]  = errv\n",
    "\n",
    "        return W_error, V_error\n",
    "\n",
    "    def SGD(self, X, y, _epsislon, num_iterations):\n",
    "        i = 0\n",
    "        W, V = self.W, self.V\n",
    "        \n",
    "        for j in range(num_iterations):\n",
    "            j = j + np.random.randint(1000-num_iterations - 2)\n",
    "            x = X[j]\n",
    "            y_t = y[j]\n",
    "            x = np.array(x)\n",
    "\n",
    "            errw, errv = self.back_pass(x, y_t)\n",
    "\n",
    "            correctionW = (_epsislon*errw)\n",
    "            correctionV = (_epsislon*errv)\n",
    "            self.W = self.W - correctionW\n",
    "            self.V = self.V - correctionV\n",
    "#         self.V = V\n",
    "#         self.W = W\n"
   ]
  },
  {
   "cell_type": "code",
   "execution_count": 19,
   "metadata": {
    "collapsed": false
   },
   "outputs": [
    {
     "name": "stdout",
     "output_type": "stream",
     "text": [
      "train =  27\n",
      "val =  29\n",
      "train =  30\n",
      "val =  30\n",
      "train =  27\n",
      "val =  26\n",
      "train =  35\n",
      "val =  21\n",
      "train =  23\n",
      "val =  25\n",
      "train =  22\n",
      "val =  26\n",
      "train =  26\n",
      "val =  30\n",
      "train =  35\n",
      "val =  26\n",
      "train =  31\n",
      "val =  30\n",
      "train =  27\n",
      "val =  25\n",
      "train =  25\n",
      "val =  27\n",
      "train =  33\n",
      "val =  29\n",
      "train =  24\n",
      "val =  22\n",
      "train =  23\n",
      "val =  18\n",
      "train =  24\n",
      "val =  23\n",
      "train =  34\n",
      "val =  32\n",
      "train =  24\n",
      "val =  26\n",
      "train =  27\n",
      "val =  34\n",
      "train =  28\n",
      "val =  17\n",
      "train =  32\n",
      "val =  30\n",
      "train =  38\n",
      "val =  32\n",
      "train =  38\n",
      "val =  35\n",
      "train =  38\n",
      "val =  35\n",
      "train =  37\n",
      "val =  37\n",
      "train =  39\n",
      "val =  39\n",
      "train =  38\n",
      "val =  39\n",
      "train =  35\n",
      "val =  38\n",
      "train =  33\n",
      "val =  36\n",
      "train =  38\n",
      "val =  40\n",
      "train =  37\n",
      "val =  38\n",
      "train =  38\n",
      "val =  34\n",
      "train =  39\n",
      "val =  35\n",
      "train =  37\n",
      "val =  37\n",
      "train =  36\n",
      "val =  37\n",
      "train =  39\n",
      "val =  36\n",
      "train =  35\n",
      "val =  36\n",
      "train =  40\n",
      "val =  40\n",
      "train =  38\n",
      "val =  37\n",
      "train =  38\n",
      "val =  33\n",
      "train =  36\n",
      "val =  35\n",
      "train =  39\n",
      "val =  35\n",
      "train =  39\n",
      "val =  35\n",
      "train =  36\n",
      "val =  36\n",
      "train =  39\n",
      "val =  35\n",
      "train =  38\n",
      "val =  34\n",
      "train =  40\n",
      "val =  35\n",
      "train =  39\n",
      "val =  36\n",
      "train =  41\n",
      "val =  35\n",
      "train =  43\n",
      "val =  37\n",
      "train =  42\n",
      "val =  37\n",
      "train =  41\n",
      "val =  35\n",
      "train =  41\n",
      "val =  35\n",
      "train =  42\n",
      "val =  36\n",
      "train =  42\n",
      "val =  37\n",
      "train =  42\n",
      "val =  37\n",
      "train =  41\n",
      "val =  37\n",
      "train =  41\n",
      "val =  36\n",
      "train =  40\n",
      "val =  37\n",
      "train =  39\n",
      "val =  36\n",
      "train =  39\n",
      "val =  37\n",
      "train =  39\n",
      "val =  37\n",
      "train =  39\n",
      "val =  37\n",
      "train =  39\n",
      "val =  37\n",
      "train =  39\n",
      "val =  37\n",
      "train =  39\n",
      "val =  37\n",
      "train =  39\n",
      "val =  37\n",
      "train =  39\n",
      "val =  37\n",
      "train =  39\n",
      "val =  38\n",
      "train =  39\n",
      "val =  38\n",
      "train =  39\n",
      "val =  38\n",
      "train =  39\n",
      "val =  38\n",
      "train =  39\n",
      "val =  38\n",
      "train =  39\n",
      "val =  38\n",
      "train =  39\n",
      "val =  38\n",
      "train =  39\n",
      "val =  38\n",
      "train =  39\n",
      "val =  37\n",
      "train =  39\n",
      "val =  37\n",
      "train =  39\n",
      "val =  37\n",
      "train =  39\n",
      "val =  37\n",
      "train =  39\n",
      "val =  37\n",
      "train =  39\n",
      "val =  37\n",
      "train =  39\n",
      "val =  37\n",
      "train =  39\n",
      "val =  37\n",
      "train =  39\n",
      "val =  37\n",
      "train =  39\n",
      "val =  37\n",
      "train =  39\n",
      "val =  37\n",
      "train =  39\n",
      "val =  37\n",
      "train =  39\n",
      "val =  37\n",
      "train =  39\n",
      "val =  37\n",
      "train =  39\n",
      "val =  37\n",
      "train =  39\n",
      "val =  37\n",
      "train =  39\n",
      "val =  37\n",
      "train =  39\n",
      "val =  37\n",
      "train =  39\n",
      "val =  37\n",
      "train =  39\n",
      "val =  37\n",
      "train =  39\n",
      "val =  37\n",
      "train =  39\n",
      "val =  37\n",
      "train =  39\n",
      "val =  37\n",
      "train =  39\n",
      "val =  37\n",
      "train =  39\n",
      "val =  37\n"
     ]
    },
    {
     "ename": "NameError",
     "evalue": "name 'U' is not defined",
     "output_type": "error",
     "traceback": [
      "\u001b[0;31m---------------------------------------------------------------------------\u001b[0m",
      "\u001b[0;31mNameError\u001b[0m                                 Traceback (most recent call last)",
      "\u001b[0;32m<ipython-input-19-7e74d50e8aa5>\u001b[0m in \u001b[0;36m<module>\u001b[0;34m()\u001b[0m\n\u001b[1;32m     24\u001b[0m     \u001b[0mii\u001b[0m \u001b[0;34m+=\u001b[0m \u001b[0;36m1\u001b[0m\u001b[0;34m\u001b[0m\u001b[0m\n\u001b[1;32m     25\u001b[0m \u001b[0med\u001b[0m \u001b[0;34m=\u001b[0m \u001b[0mtime\u001b[0m\u001b[0;34m.\u001b[0m\u001b[0mclock\u001b[0m\u001b[0;34m(\u001b[0m\u001b[0;34m)\u001b[0m\u001b[0;34m\u001b[0m\u001b[0m\n\u001b[0;32m---> 26\u001b[0;31m \u001b[0mprint\u001b[0m\u001b[0;34m(\u001b[0m\u001b[0mU\u001b[0m\u001b[0;34m,\u001b[0m \u001b[0;34m\" : \"\u001b[0m\u001b[0;34m,\u001b[0m \u001b[0mint\u001b[0m\u001b[0;34m(\u001b[0m\u001b[0;34m(\u001b[0m\u001b[0;34m-\u001b[0m\u001b[0mst\u001b[0m \u001b[0;34m+\u001b[0m \u001b[0med\u001b[0m\u001b[0;34m)\u001b[0m\u001b[0;34m//\u001b[0m\u001b[0;36m60\u001b[0m\u001b[0;34m)\u001b[0m\u001b[0;34m,\u001b[0m \u001b[0;34m\"+\"\u001b[0m\u001b[0;34m,\u001b[0m \u001b[0;34m(\u001b[0m\u001b[0;34m(\u001b[0m\u001b[0;34m(\u001b[0m\u001b[0;34m-\u001b[0m\u001b[0mst\u001b[0m \u001b[0;34m+\u001b[0m \u001b[0med\u001b[0m\u001b[0;34m)\u001b[0m\u001b[0;34m/\u001b[0m\u001b[0;36m60\u001b[0m\u001b[0;34m)\u001b[0m\u001b[0;34m%\u001b[0m\u001b[0;36m1\u001b[0m\u001b[0;34m)\u001b[0m\u001b[0;34m*\u001b[0m\u001b[0;36m60\u001b[0m\u001b[0;34m)\u001b[0m\u001b[0;34m\u001b[0m\u001b[0m\n\u001b[0m",
      "\u001b[0;31mNameError\u001b[0m: name 'U' is not defined"
     ]
    }
   ],
   "source": [
    "# X = np.array([[1,0],[1,1],[0,0]])\n",
    "# l = []\n",
    "import time\n",
    "# N = Neural_Network()\n",
    "st = time.clock()\n",
    "ii = 0\n",
    "for ii in range(10):\n",
    "    N.SGD(X, y, (10**(-1-ii//20)), 1000)\n",
    "#     ed = time.clock()\n",
    "#     print(U, \" : \", int((-st + ed)//60), \"+\", (((-st + ed)/60)%1)*60)\n",
    "    o = 0\n",
    "    for i in range(100):\n",
    "        Z = N.for_pass(X[i].reshape((785,1)))\n",
    "        if (Z.tolist().index(max(Z))) == (y[i].tolist().index(max(y[i]))):\n",
    "            o += 1\n",
    "    print(\"train = \", o)\n",
    "    o = 0\n",
    "    for i in range(100):\n",
    "        Z = N.for_pass(X[1000+i].reshape((785,1)))\n",
    "        if (Z.tolist().index(max(Z))) == (y[1000+i].tolist().index(max(y[1000+i]))):\n",
    "            o += 1\n",
    "    print(\"val = \", o)\n",
    "    l.append(o)\n",
    "    ii += 1\n",
    "ed = time.clock()\n",
    "print(U, \" : \", int((-st + ed)//60), \"+\", (((-st + ed)/60)%1)*60)"
   ]
  },
  {
   "cell_type": "code",
   "execution_count": 17,
   "metadata": {
    "collapsed": false
   },
   "outputs": [
    {
     "name": "stdout",
     "output_type": "stream",
     "text": [
      "train =  14\n",
      "val =  6\n",
      "train =  17\n",
      "val =  15\n",
      "train =  17\n",
      "val =  16\n",
      "train =  25\n",
      "val =  15\n",
      "train =  19\n",
      "val =  22\n",
      "train =  24\n",
      "val =  25\n",
      "train =  28\n",
      "val =  23\n",
      "train =  25\n",
      "val =  25\n",
      "train =  25\n",
      "val =  31\n",
      "train =  29\n",
      "val =  35\n",
      "train =  28\n",
      "val =  33\n",
      "train =  26\n",
      "val =  30\n",
      "train =  26\n",
      "val =  33\n",
      "train =  27\n",
      "val =  23\n",
      "train =  30\n",
      "val =  27\n",
      "train =  31\n",
      "val =  31\n",
      "train =  32\n",
      "val =  35\n",
      "train =  31\n",
      "val =  36\n",
      "train =  29\n",
      "val =  34\n",
      "train =  30\n",
      "val =  35\n",
      "train =  30\n",
      "val =  34\n",
      "train =  30\n",
      "val =  35\n",
      "train =  31\n",
      "val =  34\n",
      "train =  31\n",
      "val =  33\n",
      "train =  31\n",
      "val =  33\n",
      "train =  31\n",
      "val =  34\n",
      "train =  31\n",
      "val =  33\n",
      "train =  31\n",
      "val =  34\n",
      "train =  31\n",
      "val =  34\n",
      "train =  31\n",
      "val =  34\n",
      "train =  31\n",
      "val =  34\n",
      "train =  31\n",
      "val =  34\n",
      "train =  31\n",
      "val =  34\n",
      "train =  31\n",
      "val =  34\n",
      "train =  31\n",
      "val =  34\n",
      "train =  31\n",
      "val =  34\n",
      "train =  31\n",
      "val =  34\n",
      "train =  31\n",
      "val =  34\n",
      "train =  31\n",
      "val =  34\n",
      "train =  31\n",
      "val =  34\n",
      "train =  31\n",
      "val =  34\n",
      "train =  31\n",
      "val =  34\n",
      "train =  31\n",
      "val =  34\n",
      "train =  31\n",
      "val =  34\n",
      "train =  31\n",
      "val =  34\n",
      "train =  31\n",
      "val =  34\n",
      "train =  31\n",
      "val =  34\n",
      "train =  31\n",
      "val =  34\n",
      "train =  31\n",
      "val =  34\n",
      "train =  31\n",
      "val =  34\n",
      "train =  31\n",
      "val =  34\n",
      "train =  31\n",
      "val =  34\n",
      "train =  31\n",
      "val =  34\n",
      "train =  31\n",
      "val =  34\n",
      "train =  31\n",
      "val =  34\n",
      "train =  31\n",
      "val =  34\n",
      "train =  31\n",
      "val =  34\n",
      "train =  31\n",
      "val =  34\n",
      "train =  31\n",
      "val =  34\n",
      "train =  31\n",
      "val =  34\n",
      "train =  31\n",
      "val =  34\n",
      "train =  31\n",
      "val =  34\n",
      "train =  31\n",
      "val =  34\n",
      "train =  31\n",
      "val =  34\n",
      "train =  31\n",
      "val =  34\n",
      "train =  31\n",
      "val =  34\n",
      "train =  31\n",
      "val =  34\n",
      "train =  31\n",
      "val =  34\n",
      "train =  31\n",
      "val =  34\n",
      "train =  31\n",
      "val =  34\n",
      "train =  31\n",
      "val =  34\n",
      "train =  31\n",
      "val =  34\n",
      "train =  31\n",
      "val =  34\n",
      "train =  31\n",
      "val =  34\n",
      "train =  31\n",
      "val =  34\n",
      "train =  31\n",
      "val =  34\n",
      "train =  31\n",
      "val =  34\n",
      "train =  31\n",
      "val =  34\n",
      "train =  31\n",
      "val =  34\n",
      "train =  31\n",
      "val =  34\n",
      "train =  31\n",
      "val =  34\n",
      "train =  31\n",
      "val =  34\n",
      "train =  31\n",
      "val =  34\n",
      "train =  31\n",
      "val =  34\n",
      "train =  31\n",
      "val =  34\n",
      "train =  31\n",
      "val =  34\n",
      "train =  31\n",
      "val =  34\n",
      "train =  31\n",
      "val =  34\n",
      "train =  31\n",
      "val =  34\n",
      "train =  31\n",
      "val =  34\n",
      "train =  31\n",
      "val =  34\n",
      "train =  31\n",
      "val =  34\n",
      "train =  31\n",
      "val =  34\n",
      "train =  31\n",
      "val =  34\n",
      "train =  31\n",
      "val =  34\n",
      "train =  31\n",
      "val =  34\n",
      "train =  31\n",
      "val =  34\n",
      "train =  31\n",
      "val =  34\n",
      "train =  31\n",
      "val =  34\n",
      "train =  31\n",
      "val =  34\n",
      "train =  31\n",
      "val =  34\n",
      "train =  31\n",
      "val =  34\n",
      "train =  31\n",
      "val =  34\n",
      "train =  31\n",
      "val =  34\n",
      "train =  31\n",
      "val =  34\n",
      "train =  31\n",
      "val =  34\n",
      "train =  31\n",
      "val =  34\n",
      "train =  31\n",
      "val =  34\n",
      "train =  31\n",
      "val =  34\n",
      "train =  31\n",
      "val =  34\n",
      "train =  31\n",
      "val =  34\n",
      "train =  31\n",
      "val =  34\n",
      "train =  31\n",
      "val =  34\n",
      "train =  31\n",
      "val =  34\n",
      "train =  31\n",
      "val =  34\n",
      "train =  31\n",
      "val =  34\n",
      "train =  31\n",
      "val =  34\n",
      "train =  31\n",
      "val =  34\n",
      "train =  31\n",
      "val =  34\n",
      "train =  31\n",
      "val =  34\n",
      "train =  31\n",
      "val =  34\n",
      "train =  31\n",
      "val =  34\n",
      "train =  31\n",
      "val =  34\n",
      "train =  31\n",
      "val =  34\n",
      "train =  31\n",
      "val =  34\n",
      "train =  31\n",
      "val =  34\n",
      "train =  31\n",
      "val =  34\n",
      "train =  31\n",
      "val =  34\n",
      "train =  31\n",
      "val =  34\n",
      "train =  31\n",
      "val =  34\n",
      "train =  31\n",
      "val =  34\n",
      "train =  31\n",
      "val =  34\n",
      "train =  31\n",
      "val =  34\n",
      "train =  31\n",
      "val =  34\n",
      "train =  31\n",
      "val =  34\n",
      "train =  31\n",
      "val =  34\n",
      "train =  31\n",
      "val =  34\n",
      "train =  31\n",
      "val =  34\n",
      "train =  31\n",
      "val =  34\n",
      "train =  31\n",
      "val =  34\n",
      "train =  31\n",
      "val =  34\n",
      "train =  31\n",
      "val =  34\n",
      "train =  31\n",
      "val =  34\n",
      "train =  31\n",
      "val =  34\n",
      "train =  31\n",
      "val =  34\n",
      "train =  31\n",
      "val =  34\n",
      "train =  31\n",
      "val =  34\n",
      "train =  31\n",
      "val =  34\n",
      "train =  31\n",
      "val =  34\n",
      "train =  31\n",
      "val =  34\n",
      "train =  31\n",
      "val =  34\n",
      "train =  31\n",
      "val =  34\n",
      "train =  31\n",
      "val =  34\n",
      "train =  31\n",
      "val =  34\n",
      "train =  31\n",
      "val =  34\n",
      "train =  31\n",
      "val =  34\n",
      "train =  31\n",
      "val =  34\n",
      "train =  31\n",
      "val =  34\n",
      "train =  31\n",
      "val =  34\n",
      "train =  31\n",
      "val =  34\n",
      "train =  31\n",
      "val =  34\n",
      "train =  31\n",
      "val =  34\n"
     ]
    },
    {
     "ename": "KeyboardInterrupt",
     "evalue": "",
     "output_type": "error",
     "traceback": [
      "\u001b[0;31m---------------------------------------------------------------------------\u001b[0m",
      "\u001b[0;31mKeyboardInterrupt\u001b[0m                         Traceback (most recent call last)",
      "\u001b[0;32m<ipython-input-17-2cb8a306bcb6>\u001b[0m in \u001b[0;36m<module>\u001b[0;34m()\u001b[0m\n\u001b[1;32m      6\u001b[0m \u001b[0mii\u001b[0m \u001b[0;34m=\u001b[0m \u001b[0;36m0\u001b[0m\u001b[0;34m\u001b[0m\u001b[0m\n\u001b[1;32m      7\u001b[0m \u001b[0;32mfor\u001b[0m \u001b[0mii\u001b[0m \u001b[0;32min\u001b[0m \u001b[0mrange\u001b[0m\u001b[0;34m(\u001b[0m\u001b[0;36m800\u001b[0m\u001b[0;34m)\u001b[0m\u001b[0;34m:\u001b[0m\u001b[0;34m\u001b[0m\u001b[0m\n\u001b[0;32m----> 8\u001b[0;31m     \u001b[0mN\u001b[0m\u001b[0;34m.\u001b[0m\u001b[0mSGD\u001b[0m\u001b[0;34m(\u001b[0m\u001b[0mX\u001b[0m\u001b[0;34m,\u001b[0m \u001b[0my\u001b[0m\u001b[0;34m,\u001b[0m \u001b[0;34m(\u001b[0m\u001b[0;36m10\u001b[0m\u001b[0;34m**\u001b[0m\u001b[0;34m(\u001b[0m\u001b[0;34m-\u001b[0m\u001b[0;36m1\u001b[0m\u001b[0;34m-\u001b[0m\u001b[0mii\u001b[0m\u001b[0;34m//\u001b[0m\u001b[0;36m8\u001b[0m\u001b[0;34m)\u001b[0m\u001b[0;34m)\u001b[0m\u001b[0;34m,\u001b[0m \u001b[0;36m100\u001b[0m\u001b[0;34m)\u001b[0m\u001b[0;34m\u001b[0m\u001b[0m\n\u001b[0m\u001b[1;32m      9\u001b[0m \u001b[0;31m#     ed = time.clock()\u001b[0m\u001b[0;34m\u001b[0m\u001b[0;34m\u001b[0m\u001b[0m\n\u001b[1;32m     10\u001b[0m \u001b[0;31m#     print(U, \" : \", int((-st + ed)//60), \"+\", (((-st + ed)/60)%1)*60)\u001b[0m\u001b[0;34m\u001b[0m\u001b[0;34m\u001b[0m\u001b[0m\n",
      "\u001b[0;32m<ipython-input-5-20e324bcf486>\u001b[0m in \u001b[0;36mSGD\u001b[0;34m(self, X, y, _epsislon, num_iterations)\u001b[0m\n\u001b[1;32m     54\u001b[0m             \u001b[0mx\u001b[0m \u001b[0;34m=\u001b[0m \u001b[0mnp\u001b[0m\u001b[0;34m.\u001b[0m\u001b[0marray\u001b[0m\u001b[0;34m(\u001b[0m\u001b[0mx\u001b[0m\u001b[0;34m)\u001b[0m\u001b[0;34m\u001b[0m\u001b[0m\n\u001b[1;32m     55\u001b[0m \u001b[0;34m\u001b[0m\u001b[0m\n\u001b[0;32m---> 56\u001b[0;31m             \u001b[0merrw\u001b[0m\u001b[0;34m,\u001b[0m \u001b[0merrv\u001b[0m \u001b[0;34m=\u001b[0m \u001b[0mself\u001b[0m\u001b[0;34m.\u001b[0m\u001b[0mback_pass\u001b[0m\u001b[0;34m(\u001b[0m\u001b[0mx\u001b[0m\u001b[0;34m,\u001b[0m \u001b[0my_t\u001b[0m\u001b[0;34m)\u001b[0m\u001b[0;34m\u001b[0m\u001b[0m\n\u001b[0m\u001b[1;32m     57\u001b[0m \u001b[0;34m\u001b[0m\u001b[0m\n\u001b[1;32m     58\u001b[0m             \u001b[0mcorrectionW\u001b[0m \u001b[0;34m=\u001b[0m \u001b[0;34m(\u001b[0m\u001b[0m_epsislon\u001b[0m\u001b[0;34m*\u001b[0m\u001b[0merrw\u001b[0m\u001b[0;34m)\u001b[0m\u001b[0;34m\u001b[0m\u001b[0m\n",
      "\u001b[0;32m<ipython-input-5-20e324bcf486>\u001b[0m in \u001b[0;36mback_pass\u001b[0;34m(self, X, y)\u001b[0m\n\u001b[1;32m     38\u001b[0m             \u001b[0ms\u001b[0m \u001b[0;34m=\u001b[0m \u001b[0mnp\u001b[0m\u001b[0;34m.\u001b[0m\u001b[0msum\u001b[0m\u001b[0;34m(\u001b[0m\u001b[0mnp\u001b[0m\u001b[0;34m.\u001b[0m\u001b[0mdot\u001b[0m\u001b[0;34m(\u001b[0m\u001b[0my\u001b[0m\u001b[0;34m.\u001b[0m\u001b[0mreshape\u001b[0m\u001b[0;34m(\u001b[0m\u001b[0;34m(\u001b[0m\u001b[0;36m1\u001b[0m\u001b[0;34m,\u001b[0m\u001b[0;36m26\u001b[0m\u001b[0;34m)\u001b[0m\u001b[0;34m)\u001b[0m\u001b[0;34m,\u001b[0m \u001b[0mN\u001b[0m\u001b[0;34m.\u001b[0m\u001b[0mW\u001b[0m\u001b[0;34m)\u001b[0m\u001b[0;34m,\u001b[0m\u001b[0maxis\u001b[0m \u001b[0;34m=\u001b[0m \u001b[0;36m0\u001b[0m\u001b[0;34m)\u001b[0m\u001b[0;34m\u001b[0m\u001b[0m\n\u001b[1;32m     39\u001b[0m             \u001b[0merrv\u001b[0m \u001b[0;34m=\u001b[0m \u001b[0mf\u001b[0m \u001b[0;34m-\u001b[0m \u001b[0ms\u001b[0m\u001b[0;34m\u001b[0m\u001b[0m\n\u001b[0;32m---> 40\u001b[0;31m             \u001b[0mtemp\u001b[0m \u001b[0;34m=\u001b[0m \u001b[0;34m[\u001b[0m\u001b[0;36m1\u001b[0m \u001b[0;34m-\u001b[0m \u001b[0;34m(\u001b[0m\u001b[0mself\u001b[0m\u001b[0;34m.\u001b[0m\u001b[0mh\u001b[0m\u001b[0;34m[\u001b[0m\u001b[0mpop_V\u001b[0m\u001b[0;34m]\u001b[0m\u001b[0;34m)\u001b[0m\u001b[0;34m**\u001b[0m\u001b[0;36m2\u001b[0m\u001b[0;34m]\u001b[0m \u001b[0;34m*\u001b[0m \u001b[0mX\u001b[0m\u001b[0;34m\u001b[0m\u001b[0m\n\u001b[0m\u001b[1;32m     41\u001b[0m             \u001b[0merrv\u001b[0m \u001b[0;34m=\u001b[0m \u001b[0merrv\u001b[0m\u001b[0;34m[\u001b[0m\u001b[0mpop_V\u001b[0m\u001b[0;34m]\u001b[0m \u001b[0;34m*\u001b[0m \u001b[0mtemp\u001b[0m\u001b[0;34m\u001b[0m\u001b[0m\n\u001b[1;32m     42\u001b[0m             \u001b[0mV_error\u001b[0m\u001b[0;34m[\u001b[0m\u001b[0mpop_V\u001b[0m\u001b[0;34m]\u001b[0m  \u001b[0;34m=\u001b[0m \u001b[0merrv\u001b[0m\u001b[0;34m\u001b[0m\u001b[0m\n",
      "\u001b[0;31mKeyboardInterrupt\u001b[0m: "
     ]
    }
   ],
   "source": [
    "# X = np.array([[1,0],[1,1],[0,0]])\n",
    "# l = []\n",
    "import time\n",
    "# N = Neural_Network()\n",
    "st = time.clock()\n",
    "ii = 0\n",
    "for ii in range(100):\n",
    "    N.SGD(X, y, (10**(-1-ii//20)), 100)\n",
    "#     ed = time.clock()\n",
    "#     print(U, \" : \", int((-st + ed)//60), \"+\", (((-st + ed)/60)%1)*60)\n",
    "    o = 0\n",
    "    for i in range(100):\n",
    "        Z = N.for_pass(X[i].reshape((785,1)))\n",
    "        if (Z.tolist().index(max(Z))) == (y[i].tolist().index(max(y[i]))):\n",
    "            o += 1\n",
    "    print(\"train = \", o)\n",
    "    o = 0\n",
    "    for i in range(100):\n",
    "        Z = N.for_pass(X[1000+i].reshape((785,1)))\n",
    "        if (Z.tolist().index(max(Z))) == (y[1000+i].tolist().index(max(y[1000+i]))):\n",
    "            o += 1\n",
    "    print(\"val = \", o)\n",
    "    l.append(o)\n",
    "    ii += 1\n",
    "ed = time.clock()\n",
    "print(U, \" : \", int((-st + ed)//60), \"+\", (((-st + ed)/60)%1)*60)"
   ]
  },
  {
   "cell_type": "code",
   "execution_count": 494,
   "metadata": {
    "collapsed": false
   },
   "outputs": [
    {
     "name": "stdout",
     "output_type": "stream",
     "text": [
      "10\n"
     ]
    }
   ],
   "source": [
    "o = 0\n",
    "for i in range(100):\n",
    "    Z = N.for_pass(X[1000+i].reshape((785,1)))\n",
    "    if (Z.tolist().index(max(Z))) == (y[1000+i].tolist().index(max(y[1000+i]))):\n",
    "        o += 1\n",
    "print(o)"
   ]
  },
  {
   "cell_type": "code",
   "execution_count": 18,
   "metadata": {
    "collapsed": false
   },
   "outputs": [],
   "source": [
    "imp_W = N.W\n",
    "imp_V = N.V"
   ]
  },
  {
   "cell_type": "markdown",
   "metadata": {},
   "source": [
    "####    COST FUNCTION:"
   ]
  },
  {
   "cell_type": "code",
   "execution_count": 7,
   "metadata": {
    "collapsed": true
   },
   "outputs": [],
   "source": [
    "def tanh(x):\n",
    "    return np.tanh(x)\n",
    "\n",
    "def dtanh(x):\n",
    "    return 1.0 - np.tanh(x)**2\n",
    "\n",
    "def L(Z, y):\n",
    "    return y[i] * np.log(Z[i])\n",
    "\n",
    "def J(h, y):\n",
    "    sum = 0\n",
    "    for i in range(len(h)):\n",
    "        sum += L(h[i], y[i])\n",
    "    return sum\n",
    "\n",
    "def softmax(x):\n",
    "#     return _softmax(np.exp(x) / np.sum(np.exp(x), axis=0))\n",
    "    z = np.exp(x) / np.sum(np.exp(x), axis=0)\n",
    "#     print(z)\n",
    "    return z"
   ]
  },
  {
   "cell_type": "markdown",
   "metadata": {},
   "source": [
    "####    HELPER FUNCTIONS: [Data Pre-Processing / cost functions]"
   ]
  },
  {
   "cell_type": "code",
   "execution_count": null,
   "metadata": {
    "collapsed": false
   },
   "outputs": [],
   "source": []
  },
  {
   "cell_type": "markdown",
   "metadata": {},
   "source": [
    "#### TESTING: {DECISION TREE}"
   ]
  },
  {
   "cell_type": "code",
   "execution_count": 462,
   "metadata": {
    "collapsed": false
   },
   "outputs": [
    {
     "data": {
      "text/plain": [
       "()"
      ]
     },
     "execution_count": 462,
     "metadata": {},
     "output_type": "execute_result"
    }
   ],
   "source": [
    "clf = DecisionTree()\n",
    "clf.train(X, y)\n",
    "print(classification_report(y_test, clf.predict(X_test)))"
   ]
  },
  {
   "cell_type": "markdown",
   "metadata": {},
   "source": [
    "#### TESTING: {RANDOM FOREST}"
   ]
  },
  {
   "cell_type": "code",
   "execution_count": null,
   "metadata": {
    "collapsed": false
   },
   "outputs": [],
   "source": [
    "clf = RandomForest()\n",
    "clf.train(X, y)\n",
    "print(classification_report(y_test, clf.predict(X_test)))\n",
    "test_clf(y_test, clf.predict(X_test))"
   ]
  },
  {
   "cell_type": "markdown",
   "metadata": {},
   "source": [
    "### Q.4"
   ]
  },
  {
   "cell_type": "markdown",
   "metadata": {},
   "source": [
    "#### DECISION-TREE:"
   ]
  },
  {
   "cell_type": "markdown",
   "metadata": {},
   "source": [
    "##### TRAINING:"
   ]
  },
  {
   "cell_type": "code",
   "execution_count": 24,
   "metadata": {
    "collapsed": false
   },
   "outputs": [
    {
     "name": "stdout",
     "output_type": "stream",
     "text": [
      "             precision    recall  f1-score   support\n",
      "\n",
      "          0       0.78      0.84      0.81     11629\n",
      "          1       0.83      0.77      0.80     12073\n",
      "\n",
      "avg / total       0.81      0.80      0.80     23702\n",
      "\n",
      "SUCESS!!!\n"
     ]
    },
    {
     "data": {
      "text/plain": [
       "0.8045312631845414"
      ]
     },
     "execution_count": 24,
     "metadata": {},
     "output_type": "execute_result"
    }
   ],
   "source": [
    "clf = DecisionTree(max_depth=20)\n",
    "clf.train(X, y)\n",
    "print(classification_report(y, clf.predict(X)))\n",
    "test_clf(y, clf.predict(X))"
   ]
  },
  {
   "cell_type": "markdown",
   "metadata": {},
   "source": [
    "##### VALIDATION:"
   ]
  },
  {
   "cell_type": "code",
   "execution_count": 25,
   "metadata": {
    "collapsed": false
   },
   "outputs": [
    {
     "name": "stdout",
     "output_type": "stream",
     "text": [
      "             precision    recall  f1-score   support\n",
      "\n",
      "          0       0.74      0.83      0.78      5794\n",
      "          1       0.82      0.72      0.77      6057\n",
      "\n",
      "avg / total       0.78      0.77      0.77     11851\n",
      "\n",
      "SUCESS!!!\n"
     ]
    },
    {
     "data": {
      "text/plain": [
       "0.7748713188760442"
      ]
     },
     "execution_count": 25,
     "metadata": {},
     "output_type": "execute_result"
    }
   ],
   "source": [
    "clf = DecisionTree()\n",
    "clf.train(X_train, y_train)\n",
    "print(classification_report(y_test, clf.predict(X_test)))\n",
    "test_clf(y_test, clf.predict(X_test))"
   ]
  },
  {
   "cell_type": "markdown",
   "metadata": {},
   "source": [
    "#### RANDOM-FOREST:"
   ]
  },
  {
   "cell_type": "markdown",
   "metadata": {},
   "source": [
    "##### TRAINING:"
   ]
  },
  {
   "cell_type": "code",
   "execution_count": 26,
   "metadata": {
    "collapsed": false
   },
   "outputs": [
    {
     "name": "stdout",
     "output_type": "stream",
     "text": [
      "             precision    recall  f1-score   support\n",
      "\n",
      "          0       0.76      0.88      0.82     11629\n",
      "          1       0.87      0.73      0.79     12073\n",
      "\n",
      "avg / total       0.81      0.81      0.80     23702\n",
      "\n",
      "SUCESS!!!\n"
     ]
    },
    {
     "data": {
      "text/plain": [
       "0.805881360222766"
      ]
     },
     "execution_count": 26,
     "metadata": {},
     "output_type": "execute_result"
    }
   ],
   "source": [
    "clf = RandomForest(size=35,max_depth=12)\n",
    "clf.train(X, y)\n",
    "print(classification_report(y, clf.predict(X)))\n",
    "test_clf(y, clf.predict(X))"
   ]
  },
  {
   "cell_type": "markdown",
   "metadata": {},
   "source": [
    "##### VALIDATION:"
   ]
  },
  {
   "cell_type": "code",
   "execution_count": 27,
   "metadata": {
    "collapsed": false
   },
   "outputs": [
    {
     "name": "stdout",
     "output_type": "stream",
     "text": [
      "             precision    recall  f1-score   support\n",
      "\n",
      "          0       0.74      0.86      0.80      5794\n",
      "          1       0.85      0.72      0.78      6057\n",
      "\n",
      "avg / total       0.80      0.79      0.79     11851\n",
      "\n",
      "SUCESS!!!\n"
     ]
    },
    {
     "data": {
      "text/plain": [
       "0.7881191460636233"
      ]
     },
     "execution_count": 27,
     "metadata": {},
     "output_type": "execute_result"
    }
   ],
   "source": [
    "clf = RandomForest(size=35,max_depth=12)\n",
    "clf.train(X_train, y_train)\n",
    "print(classification_report(y_test, clf.predict(X_test)))\n",
    "test_clf(y_test, clf.predict(X_test))"
   ]
  },
  {
   "cell_type": "markdown",
   "metadata": {},
   "source": [
    "### Q.5\n",
    "#### VISUALIZING:"
   ]
  },
  {
   "cell_type": "code",
   "execution_count": 38,
   "metadata": {
    "collapsed": false
   },
   "outputs": [
    {
     "name": "stdout",
     "output_type": "stream",
     "text": [
      "point:  [  0.   0.   1.   0.   0.   0.   0.   0.   0.   0.   0.   0.   0.   1.   0.\n",
      "   0.   0.   0.   0.   0.   0.   0.   0.   0.   0.   0.   0.   0.   0.  13.\n",
      "   0.   2.   0.   1.   0.   0.   0.]\n",
      "label: 0\n",
      "TREE: \n",
      "feat =  28  ,  split_val =  1.0\n",
      "LEFT\n",
      "feat =  29  ,  split_val =  1.0\n",
      "RIGHT\n",
      "feat =  3  ,  split_val =  1.0\n",
      "LEFT\n",
      "feat =  9  ,  split_val =  1.0\n",
      "LEFT\n",
      "prediction:  0.0\n"
     ]
    }
   ],
   "source": [
    "l = X_test[101]\n",
    "print(\"point: \", l)\n",
    "print(\"label:\", y_test[101][0])\n",
    "print(\"TREE: \")\n",
    "print(\"prediction: \", clf.predict(l))"
   ]
  },
  {
   "cell_type": "code",
   "execution_count": 9,
   "metadata": {
    "collapsed": false
   },
   "outputs": [
    {
     "data": {
      "text/plain": [
       "(124800, 784)"
      ]
     },
     "execution_count": 9,
     "metadata": {},
     "output_type": "execute_result"
    }
   ],
   "source": [
    "X.shape"
   ]
  },
  {
   "cell_type": "code",
   "execution_count": 87,
   "metadata": {
    "collapsed": false
   },
   "outputs": [
    {
     "data": {
      "text/plain": [
       "(785,)"
      ]
     },
     "execution_count": 87,
     "metadata": {},
     "output_type": "execute_result"
    }
   ],
   "source": [
    "X[1].shape"
   ]
  },
  {
   "cell_type": "code",
   "execution_count": 89,
   "metadata": {
    "collapsed": false
   },
   "outputs": [
    {
     "data": {
      "text/plain": [
       "array([0, 0, 0])"
      ]
     },
     "execution_count": 89,
     "metadata": {},
     "output_type": "execute_result"
    }
   ],
   "source": [
    "V = np.array([[0,0,0],[1,1,1],[2,2,2]])\n",
    "V[0]"
   ]
  },
  {
   "cell_type": "code",
   "execution_count": 160,
   "metadata": {
    "collapsed": false
   },
   "outputs": [
    {
     "data": {
      "text/plain": [
       "1"
      ]
     },
     "execution_count": 160,
     "metadata": {},
     "output_type": "execute_result"
    }
   ],
   "source": [
    "len(i.shape)"
   ]
  },
  {
   "cell_type": "code",
   "execution_count": 180,
   "metadata": {
    "collapsed": false
   },
   "outputs": [
    {
     "data": {
      "text/plain": [
       "(785,)"
      ]
     },
     "execution_count": 180,
     "metadata": {},
     "output_type": "execute_result"
    }
   ],
   "source": [
    "X[0]"
   ]
  },
  {
   "cell_type": "code",
   "execution_count": 264,
   "metadata": {
    "collapsed": true
   },
   "outputs": [],
   "source": [
    "X = np.random.randn(1000, 784)\n",
    "X = np.insert(X, X.shape[1], 1, axis=1)\n",
    "y = np.random.randn(1000)"
   ]
  },
  {
   "cell_type": "code",
   "execution_count": 76,
   "metadata": {
    "collapsed": false
   },
   "outputs": [
    {
     "name": "stderr",
     "output_type": "stream",
     "text": [
      "/Users/AhmedThabet/anaconda/lib/python3.5/site-packages/sklearn/neural_network/multilayer_perceptron.py:563: ConvergenceWarning: Stochastic Optimizer: Maximum iterations reached and the optimization hasn't converged yet.\n",
      "  % (), ConvergenceWarning)\n"
     ]
    },
    {
     "name": "stdout",
     "output_type": "stream",
     "text": [
      "3 + 54.639611000000514\n",
      "SUCESS!!!\n"
     ]
    },
    {
     "data": {
      "text/plain": [
       "76.9921875"
      ]
     },
     "execution_count": 76,
     "metadata": {},
     "output_type": "execute_result"
    }
   ],
   "source": [
    "import time\n",
    "from sklearn.neural_network import MLPClassifier\n",
    "# clf = MLPClassifier(hidden_layer_sizes=(1000, 400), activation='tanh', warm_start=True)\n",
    "clf = MLPClassifier(activation='logistic', solver = 'sgd', learning_rate='adaptive')\n",
    "st = time.clock()\n",
    "clf.fit(X_train, y_train.reshape((len(y_train))))\n",
    "end = time.clock()\n",
    "print(int((-st + end)//60), \"+\", (((-st + end)/60)%1)*60)\n",
    "test_clf(y_test, clf.predict(X_test))*100"
   ]
  },
  {
   "cell_type": "code",
   "execution_count": 79,
   "metadata": {
    "collapsed": false
   },
   "outputs": [
    {
     "name": "stderr",
     "output_type": "stream",
     "text": [
      "/Users/AhmedThabet/anaconda/lib/python3.5/site-packages/sklearn/neural_network/multilayer_perceptron.py:565: UserWarning: Training interrupted by user.\n",
      "  warnings.warn(\"Training interrupted by user.\")\n",
      "ERROR:root:Internal Python error in the inspect module.\n",
      "Below is the traceback from this internal error.\n",
      "\n"
     ]
    },
    {
     "name": "stdout",
     "output_type": "stream",
     "text": [
      "Traceback (most recent call last):\n",
      "  File \"/Users/AhmedThabet/anaconda/lib/python3.5/site-packages/IPython/core/interactiveshell.py\", line 2881, in run_code\n",
      "    exec(code_obj, self.user_global_ns, self.user_ns)\n",
      "  File \"<ipython-input-79-3f144527477f>\", line 6, in <module>\n",
      "    clf.fit(X_train, y_train.reshape((len(y_train))))\n",
      "  File \"/Users/AhmedThabet/anaconda/lib/python3.5/site-packages/sklearn/neural_network/multilayer_perceptron.py\", line 618, in fit\n",
      "    return self._fit(X, y, incremental=False)\n",
      "KeyboardInterrupt\n",
      "\n",
      "During handling of the above exception, another exception occurred:\n",
      "\n",
      "Traceback (most recent call last):\n",
      "  File \"/Users/AhmedThabet/anaconda/lib/python3.5/site-packages/IPython/core/interactiveshell.py\", line 1821, in showtraceback\n",
      "    stb = value._render_traceback_()\n",
      "AttributeError: 'KeyboardInterrupt' object has no attribute '_render_traceback_'\n",
      "\n",
      "During handling of the above exception, another exception occurred:\n",
      "\n",
      "Traceback (most recent call last):\n",
      "  File \"/Users/AhmedThabet/anaconda/lib/python3.5/site-packages/IPython/core/ultratb.py\", line 1132, in get_records\n",
      "    return _fixed_getinnerframes(etb, number_of_lines_of_context, tb_offset)\n",
      "  File \"/Users/AhmedThabet/anaconda/lib/python3.5/site-packages/IPython/core/ultratb.py\", line 313, in wrapped\n",
      "    return f(*args, **kwargs)\n",
      "  File \"/Users/AhmedThabet/anaconda/lib/python3.5/site-packages/IPython/core/ultratb.py\", line 358, in _fixed_getinnerframes\n",
      "    records = fix_frame_records_filenames(inspect.getinnerframes(etb, context))\n",
      "  File \"/Users/AhmedThabet/anaconda/lib/python3.5/inspect.py\", line 1453, in getinnerframes\n",
      "    frameinfo = (tb.tb_frame,) + getframeinfo(tb, context)\n",
      "  File \"/Users/AhmedThabet/anaconda/lib/python3.5/inspect.py\", line 1410, in getframeinfo\n",
      "    filename = getsourcefile(frame) or getfile(frame)\n",
      "  File \"/Users/AhmedThabet/anaconda/lib/python3.5/inspect.py\", line 672, in getsourcefile\n",
      "    if getattr(getmodule(object, filename), '__loader__', None) is not None:\n",
      "  File \"/Users/AhmedThabet/anaconda/lib/python3.5/inspect.py\", line 709, in getmodule\n",
      "    if ismodule(module) and hasattr(module, '__file__'):\n",
      "KeyboardInterrupt\n"
     ]
    },
    {
     "ename": "KeyboardInterrupt",
     "evalue": "",
     "output_type": "error",
     "traceback": [
      "\u001b[0;31m---------------------------------------------------------------------------\u001b[0m"
     ]
    }
   ],
   "source": [
    "import time\n",
    "from sklearn.neural_network import MLPClassifier\n",
    "# clf = MLPClassifier(hidden_layer_sizes=(1000, 400), activation='tanh', warm_start=True)\n",
    "clf = MLPClassifier(hidden_layer_sizes=(1000),activation='logistic', solver = 'sgd', learning_rate='adaptive',warm_start=True)\n",
    "st = time.clock()\n",
    "clf.fit(X_train, y_train.reshape((len(y_train))))\n",
    "end = time.clock()\n",
    "print(int((-st + end)//60), \"+\", (((-st + end)/60)%1)*60)\n",
    "test_clf(y_test, clf.predict(X_test))*100"
   ]
  },
  {
   "cell_type": "code",
   "execution_count": 83,
   "metadata": {
    "collapsed": false
   },
   "outputs": [
    {
     "name": "stdout",
     "output_type": "stream",
     "text": [
      "SUCESS!!!\n"
     ]
    },
    {
     "data": {
      "text/plain": [
       "81.6776842948718"
      ]
     },
     "execution_count": 83,
     "metadata": {},
     "output_type": "execute_result"
    }
   ],
   "source": [
    "test_clf(y_test, clf.predict(X_test))*100"
   ]
  },
  {
   "cell_type": "code",
   "execution_count": 26,
   "metadata": {
    "collapsed": false
   },
   "outputs": [],
   "source": [
    "tst = data['test_x']\n",
    "tst = np.insert(tst, tst.shape[1], 1, axis=1)"
   ]
  },
  {
   "cell_type": "code",
   "execution_count": 51,
   "metadata": {
    "collapsed": false
   },
   "outputs": [],
   "source": [
    "# pred = []\n",
    "# s = []\n",
    "# pred = clf.predict(tst)\n",
    "import pandas as pd\n",
    "pp = pd.DataFrame({'Category': pred})\n",
    "pp.index += 1\n",
    "pp.to_csv('sub2.csv')"
   ]
  },
  {
   "cell_type": "code",
   "execution_count": null,
   "metadata": {
    "collapsed": true
   },
   "outputs": [],
   "source": [
    "from sklearn.svm import SVC\n",
    "clf = SVC()\n",
    "clf.fit(X, y)"
   ]
  },
  {
   "cell_type": "code",
   "execution_count": 108,
   "metadata": {
    "collapsed": false
   },
   "outputs": [
    {
     "data": {
      "text/plain": [
       "(1, 5)"
      ]
     },
     "execution_count": 108,
     "metadata": {},
     "output_type": "execute_result"
    }
   ],
   "source": [
    "np.array([[1,2,3,4,5]])"
   ]
  },
  {
   "cell_type": "code",
   "execution_count": 109,
   "metadata": {
    "collapsed": false
   },
   "outputs": [],
   "source": [
    "o = np.zeros((5,5))\n",
    "o[0] = np.array([[1,2,3,4,5]])"
   ]
  },
  {
   "cell_type": "code",
   "execution_count": 110,
   "metadata": {
    "collapsed": false
   },
   "outputs": [
    {
     "data": {
      "text/plain": [
       "array([[ 1.,  2.,  3.,  4.,  5.],\n",
       "       [ 0.,  0.,  0.,  0.,  0.],\n",
       "       [ 0.,  0.,  0.,  0.,  0.],\n",
       "       [ 0.,  0.,  0.,  0.,  0.],\n",
       "       [ 0.,  0.,  0.,  0.,  0.]])"
      ]
     },
     "execution_count": 110,
     "metadata": {},
     "output_type": "execute_result"
    }
   ],
   "source": [
    "o"
   ]
  },
  {
   "cell_type": "code",
   "execution_count": 42,
   "metadata": {
    "collapsed": false
   },
   "outputs": [
    {
     "name": "stdout",
     "output_type": "stream",
     "text": [
      "[[ 1.1767374   0.47409088 -0.76055977 ...,  0.35416047 -0.41526774\n",
      "  -1.68207319]\n",
      " [ 0.1075496  -1.44468486  1.07388788 ..., -1.09621323 -0.23737941\n",
      "   0.2265311 ]\n",
      " [-1.2455358  -1.35253472 -1.18345122 ..., -0.84739405 -2.0136438\n",
      "  -0.22613549]\n",
      " ..., \n",
      " [ 0.8559875   0.19801044 -0.67147731 ...,  1.73697481  0.51111785\n",
      "   1.41632008]\n",
      " [-1.00070705 -2.05887168  1.01069041 ..., -1.42190653  0.26676274\n",
      "  -0.71002436]\n",
      " [-1.83394577  0.11889901 -1.62781159 ...,  1.32495538  1.22778663\n",
      "   1.28908214]]\n"
     ]
    }
   ],
   "source": [
    "print(V1)"
   ]
  },
  {
   "cell_type": "code",
   "execution_count": 63,
   "metadata": {
    "collapsed": false
   },
   "outputs": [
    {
     "data": {
      "text/plain": [
       "0"
      ]
     },
     "execution_count": 63,
     "metadata": {},
     "output_type": "execute_result"
    }
   ],
   "source": [
    "# print(np.count_nonzero(V1 - V2))\n",
    "# print(np.count_nonzero(W1 - W2))\n",
    "# print(sum(sum(W1 == W2)))\n",
    "# print(\"V-dif\", V1 - V2)\n",
    "# print(\"W-dif\", W1 - W2)\n",
    "# Z = N.for_pass(X[1090].reshape((785,1)))\n",
    "# y = np.array([[0,1,1]])\n",
    "# y_t = [1 if i == y[1090] else 0 for i in range(26)]\n",
    "# errw, errv = N.back_pass(X[1090], y_t)\n",
    "# print(errv)\n",
    "# print(\"Err_V = \\n\", errv) #.reshape(len(errv),1))\n",
    "# print(\"Err_W = \\n\", errw)"
   ]
  },
  {
   "cell_type": "code",
   "execution_count": 154,
   "metadata": {
    "collapsed": false
   },
   "outputs": [
    {
     "name": "stdout",
     "output_type": "stream",
     "text": [
      "1 + 38.84860299999992\n"
     ]
    }
   ],
   "source": [
    "print(int((-st + ed)//60), \"+\", (((-st + ed)/60)%1)*60)\n"
   ]
  },
  {
   "cell_type": "code",
   "execution_count": 318,
   "metadata": {
    "collapsed": false
   },
   "outputs": [
    {
     "data": {
      "text/plain": [
       "array([ 0.2,  0.2,  0.2,  0.2,  0.2,  0.2,  0.2,  0.2,  0.2,  0.2,  0.2,\n",
       "        0.2,  0.2,  0.2,  0.2,  0.8,  0.2,  0.2,  0.2,  0.2,  0.2,  0.2,\n",
       "        0.2,  0.2,  0.2,  0.2])"
      ]
     },
     "execution_count": 318,
     "metadata": {},
     "output_type": "execute_result"
    }
   ],
   "source": [
    "y[3]"
   ]
  },
  {
   "cell_type": "code",
   "execution_count": 336,
   "metadata": {
    "collapsed": false
   },
   "outputs": [
    {
     "name": "stdout",
     "output_type": "stream",
     "text": [
      "2.23070316432e-08\n",
      "[  2.23070316e-08]\n",
      "[  9.92616735e-24]\n"
     ]
    }
   ],
   "source": [
    "pop_W = 10\n",
    "_in1 = 0\n",
    "for j in range(26):\n",
    "    _in1 += ((y[10][j]*N.Z[pop_W]))\n",
    "    \n",
    "_in = np.sum(np.multiply(y[10], N.Z[pop_W]))\n",
    "print(_in)\n",
    "print(_in1)\n",
    "print(_in-_in1)"
   ]
  },
  {
   "cell_type": "code",
   "execution_count": 370,
   "metadata": {
    "collapsed": false
   },
   "outputs": [
    {
     "name": "stdout",
     "output_type": "stream",
     "text": [
      "_s =  [ 1.52385591  1.34697506  1.76660124 -0.69203329  1.04914264  1.91691518\n",
      " -0.64188069 -0.01443898  0.59914113  0.8739404 ]\n"
     ]
    }
   ],
   "source": [
    "once  = np.dot(N.W.T, N.Z)\n",
    "f, s, k = 0, 0, 3\n",
    "for j in range(26):\n",
    "    f += y[k][j] * (once)\n",
    "    s += y[k][j] * N.W[j]\n",
    "_f = np.sum(np.multiply(y[k], once), axis = 1)\n",
    "_s = np.sum(np.dot(y[k].reshape((1,26)), N.W),axis = 0)\n",
    "# print(\"f = \", f - _f.reshape((201,1)))\n",
    "# print(\"_f = \", _f)\n",
    "# print(\"s = \", s)\n",
    "print(\"_s = \", _s[:10])"
   ]
  },
  {
   "cell_type": "code",
   "execution_count": 371,
   "metadata": {
    "collapsed": false
   },
   "outputs": [
    {
     "name": "stdout",
     "output_type": "stream",
     "text": [
      "s =  [ 1.52385591  1.34697506  1.76660124 -0.69203329  1.04914264  1.91691518\n",
      " -0.64188069 -0.01443898  0.59914113  0.8739404 ]\n"
     ]
    }
   ],
   "source": [
    "print(\"s = \", s[:10])"
   ]
  },
  {
   "cell_type": "code",
   "execution_count": 399,
   "metadata": {
    "collapsed": false
   },
   "outputs": [
    {
     "data": {
      "text/plain": [
       "array([[-1, -2],\n",
       "       [-3, -4]])"
      ]
     },
     "execution_count": 399,
     "metadata": {},
     "output_type": "execute_result"
    }
   ],
   "source": [
    "np.array([[0,0],[0,0]]) - np.array([[1,2],[3,4]])"
   ]
  },
  {
   "cell_type": "code",
   "execution_count": null,
   "metadata": {
    "collapsed": true
   },
   "outputs": [],
   "source": []
  }
 ],
 "metadata": {
  "anaconda-cloud": {},
  "kernelspec": {
   "display_name": "Python [conda root]",
   "language": "python",
   "name": "conda-root-py"
  },
  "language_info": {
   "codemirror_mode": {
    "name": "ipython",
    "version": 3
   },
   "file_extension": ".py",
   "mimetype": "text/x-python",
   "name": "python",
   "nbconvert_exporter": "python",
   "pygments_lexer": "ipython3",
   "version": "3.5.2"
  }
 },
 "nbformat": 4,
 "nbformat_minor": 1
}
