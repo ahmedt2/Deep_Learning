{
 "cells": [
  {
   "cell_type": "markdown",
   "metadata": {},
   "source": [
    "# Spam-Ham Decision Trees"
   ]
  },
  {
   "cell_type": "markdown",
   "metadata": {},
   "source": [
    "#### IMPORTS :"
   ]
  },
  {
   "cell_type": "code",
   "execution_count": 516,
   "metadata": {
    "collapsed": false
   },
   "outputs": [],
   "source": [
    "import scipy.io as sio\n",
    "import numpy as np\n",
    "import sklearn\n",
    "from matplotlib import pyplot as plt\n",
    "from math import e\n",
    "from math import log\n",
    "from sklearn.metrics import classification_report\n",
    "from sklearn.model_selection import train_test_split\n",
    "from sklearn import preprocessing\n",
    "from sys import maxsize\n",
    "from scipy import stats\n",
    "from sklearn.tree import DecisionTreeClassifier, export_graphviz\n",
    "from sklearn.preprocessing import OneHotEncoder\n",
    "import scipy\n",
    "from scipy.special import expit"
   ]
  },
  {
   "cell_type": "markdown",
   "metadata": {},
   "source": [
    "#### DATA LOADING:"
   ]
  },
  {
   "cell_type": "code",
   "execution_count": 513,
   "metadata": {
    "collapsed": false
   },
   "outputs": [
    {
     "ename": "ValueError",
     "evalue": "The truth value of an array with more than one element is ambiguous. Use a.any() or a.all()",
     "output_type": "error",
     "traceback": [
      "\u001b[0;31m---------------------------------------------------------------------------\u001b[0m",
      "\u001b[0;31mValueError\u001b[0m                                Traceback (most recent call last)",
      "\u001b[0;32m<ipython-input-513-54634906fedf>\u001b[0m in \u001b[0;36m<module>\u001b[0;34m()\u001b[0m\n\u001b[1;32m      1\u001b[0m \u001b[0my_t\u001b[0m \u001b[0;34m=\u001b[0m \u001b[0;34m[\u001b[0m\u001b[0;34m]\u001b[0m\u001b[0;34m\u001b[0m\u001b[0m\n\u001b[1;32m      2\u001b[0m \u001b[0;32mfor\u001b[0m \u001b[0mk\u001b[0m \u001b[0;32min\u001b[0m \u001b[0mrange\u001b[0m\u001b[0;34m(\u001b[0m\u001b[0mlen\u001b[0m\u001b[0;34m(\u001b[0m\u001b[0my\u001b[0m\u001b[0;34m)\u001b[0m\u001b[0;34m)\u001b[0m\u001b[0;34m:\u001b[0m\u001b[0;34m\u001b[0m\u001b[0m\n\u001b[0;32m----> 3\u001b[0;31m     \u001b[0my_t\u001b[0m\u001b[0;34m.\u001b[0m\u001b[0mappend\u001b[0m\u001b[0;34m(\u001b[0m\u001b[0;34m[\u001b[0m\u001b[0;36m1\u001b[0m \u001b[0;32mif\u001b[0m \u001b[0mi\u001b[0m \u001b[0;34m==\u001b[0m \u001b[0my\u001b[0m\u001b[0;34m[\u001b[0m\u001b[0mk\u001b[0m\u001b[0;34m]\u001b[0m \u001b[0;32melse\u001b[0m \u001b[0;36m0\u001b[0m \u001b[0;32mfor\u001b[0m \u001b[0mi\u001b[0m \u001b[0;32min\u001b[0m \u001b[0mrange\u001b[0m\u001b[0;34m(\u001b[0m\u001b[0;36m26\u001b[0m\u001b[0;34m)\u001b[0m\u001b[0;34m]\u001b[0m\u001b[0;34m)\u001b[0m\u001b[0;34m\u001b[0m\u001b[0m\n\u001b[0m\u001b[1;32m      4\u001b[0m \u001b[0my_t\u001b[0m \u001b[0;34m=\u001b[0m \u001b[0mnp\u001b[0m\u001b[0;34m.\u001b[0m\u001b[0marray\u001b[0m\u001b[0;34m(\u001b[0m\u001b[0my_t\u001b[0m\u001b[0;34m)\u001b[0m\u001b[0;34m\u001b[0m\u001b[0m\n\u001b[1;32m      5\u001b[0m \u001b[0;34m\u001b[0m\u001b[0m\n",
      "\u001b[0;32m<ipython-input-513-54634906fedf>\u001b[0m in \u001b[0;36m<listcomp>\u001b[0;34m(.0)\u001b[0m\n\u001b[1;32m      1\u001b[0m \u001b[0my_t\u001b[0m \u001b[0;34m=\u001b[0m \u001b[0;34m[\u001b[0m\u001b[0;34m]\u001b[0m\u001b[0;34m\u001b[0m\u001b[0m\n\u001b[1;32m      2\u001b[0m \u001b[0;32mfor\u001b[0m \u001b[0mk\u001b[0m \u001b[0;32min\u001b[0m \u001b[0mrange\u001b[0m\u001b[0;34m(\u001b[0m\u001b[0mlen\u001b[0m\u001b[0;34m(\u001b[0m\u001b[0my\u001b[0m\u001b[0;34m)\u001b[0m\u001b[0;34m)\u001b[0m\u001b[0;34m:\u001b[0m\u001b[0;34m\u001b[0m\u001b[0m\n\u001b[0;32m----> 3\u001b[0;31m     \u001b[0my_t\u001b[0m\u001b[0;34m.\u001b[0m\u001b[0mappend\u001b[0m\u001b[0;34m(\u001b[0m\u001b[0;34m[\u001b[0m\u001b[0;36m1\u001b[0m \u001b[0;32mif\u001b[0m \u001b[0mi\u001b[0m \u001b[0;34m==\u001b[0m \u001b[0my\u001b[0m\u001b[0;34m[\u001b[0m\u001b[0mk\u001b[0m\u001b[0;34m]\u001b[0m \u001b[0;32melse\u001b[0m \u001b[0;36m0\u001b[0m \u001b[0;32mfor\u001b[0m \u001b[0mi\u001b[0m \u001b[0;32min\u001b[0m \u001b[0mrange\u001b[0m\u001b[0;34m(\u001b[0m\u001b[0;36m26\u001b[0m\u001b[0;34m)\u001b[0m\u001b[0;34m]\u001b[0m\u001b[0;34m)\u001b[0m\u001b[0;34m\u001b[0m\u001b[0m\n\u001b[0m\u001b[1;32m      4\u001b[0m \u001b[0my_t\u001b[0m \u001b[0;34m=\u001b[0m \u001b[0mnp\u001b[0m\u001b[0;34m.\u001b[0m\u001b[0marray\u001b[0m\u001b[0;34m(\u001b[0m\u001b[0my_t\u001b[0m\u001b[0;34m)\u001b[0m\u001b[0;34m\u001b[0m\u001b[0m\n\u001b[1;32m      5\u001b[0m \u001b[0;34m\u001b[0m\u001b[0m\n",
      "\u001b[0;31mValueError\u001b[0m: The truth value of an array with more than one element is ambiguous. Use a.any() or a.all()"
     ]
    }
   ],
   "source": [
    "y_t = []\n",
    "for k in range(len(y)):\n",
    "    y_t.append([1 if i == y[k] else 0 for i in range(26)])\n",
    "y_t = np.array(y_t)\n",
    "\n",
    "data = sio.loadmat(\"letters_data.mat\") #/Users/AhmedThabet/Desktop/school/189/HOMEWORK/HW5/spam_ham/\n",
    "X = data['train_x']\n",
    "X = np.insert(X, X.shape[1], 1, axis=1)\n",
    "# X = preprocessing.scale(X)\n",
    "# y = data['train_y']\n",
    "y = y_t\n",
    "\n",
    "# y = y.reshape((23702, 1))\n",
    "X_train, X_test, y_train, y_test = \\\n",
    "    train_test_split(X, y, test_size=0.8, random_state=43)"
   ]
  },
  {
   "cell_type": "markdown",
   "metadata": {},
   "source": [
    "### CLASSES :"
   ]
  },
  {
   "cell_type": "markdown",
   "metadata": {},
   "source": [
    "####    NODE :"
   ]
  },
  {
   "cell_type": "code",
   "execution_count": 543,
   "metadata": {
    "collapsed": false
   },
   "outputs": [],
   "source": [
    "class Neural_Network():\n",
    "    def __init__(self):\n",
    "        self.input_layer = 784\n",
    "        self.hidden_layer = 200\n",
    "        self.output_layer = 26\n",
    "\n",
    "        self.V = np.random.randn(self.hidden_layer, self.input_layer + 1)\n",
    "        self.W = np.random.randn(self.output_layer, self.hidden_layer + 1)\n",
    "\n",
    "    def for_pass(self, X): # X.shape = (785, 1)\n",
    "        self.Z1 = np.dot(self.V, X)\n",
    "        self.h = tanh(self.Z1)\n",
    "        self.h = self.h.reshape((1, 200))\n",
    "        _h = np.insert(self.h, self.h.shape[1], 1, axis=1)\n",
    "        _h = _h.reshape((201, 1))\n",
    "        self._h = _h\n",
    "        self.h = self.h.reshape((200, 1))\n",
    "        self.Z2 = np.dot(self.W, _h)\n",
    "        \n",
    "        Z = expit(self.Z2)\n",
    "        return np.array(Z)\n",
    "\n",
    "    def back_pass(self, X, y):\n",
    "        self.Z = self.for_pass(X)\n",
    "        y = y.reshape((len(y), 1))\n",
    "        W_error =  np.dot(2 * np.multiply((self.Z - y), np.multiply(self.Z,(1 - self.Z))), self._h.T)\n",
    "        \n",
    "        sigma = self.Z * (1 - self.Z) * self.Z * (self.Z - y)\n",
    "        fonow = np.dot(self.W.T, sigma)\n",
    "#         fonow = np.sum(np.dot(np.multiply(np.multiply(self.Z, (1-self.Z)), 2*(self.Z - y)), self.W.T), axis = 1)\n",
    "        \n",
    "        __h = np.multiply(self._h, (1-self._h))\n",
    "        V_error = np.dot(np.multiply(fonow, __h), X.reshape((1, 785)))\n",
    "\n",
    "        return W_error, V_error\n",
    "\n",
    "    def SGD(self, X, y, _epsislon, num_iterations):\n",
    "        i = 0\n",
    "        W, V = self.W, self.V\n",
    "        \n",
    "        for j in range(num_iterations):\n",
    "#             j = j + np.random.randint(1000-num_iterations - 2)\n",
    "            x = X[j]\n",
    "            y_t = y[j]\n",
    "            x = np.array(x)\n",
    "\n",
    "            errw, errv = self.back_pass(x, y_t)\n",
    "\n",
    "            correctionW = (_epsislon*errw)\n",
    "            correctionV = (_epsislon*errv)\n",
    "            self.W = self.W - correctionW\n",
    "            self.V = self.V - correctionV\n",
    "#         self.V = V\n",
    "#         self.W = W\n"
   ]
  },
  {
   "cell_type": "code",
   "execution_count": 544,
   "metadata": {
    "collapsed": false
   },
   "outputs": [
    {
     "ename": "ValueError",
     "evalue": "operands could not be broadcast together with shapes (200,785) (201,785) ",
     "output_type": "error",
     "traceback": [
      "\u001b[0;31m---------------------------------------------------------------------------\u001b[0m",
      "\u001b[0;31mValueError\u001b[0m                                Traceback (most recent call last)",
      "\u001b[0;32m<ipython-input-544-2fed53d28e75>\u001b[0m in \u001b[0;36m<module>\u001b[0;34m()\u001b[0m\n\u001b[1;32m      6\u001b[0m \u001b[0mii\u001b[0m \u001b[0;34m=\u001b[0m \u001b[0;36m0\u001b[0m\u001b[0;34m\u001b[0m\u001b[0m\n\u001b[1;32m      7\u001b[0m \u001b[0;32mfor\u001b[0m \u001b[0mii\u001b[0m \u001b[0;32min\u001b[0m \u001b[0mrange\u001b[0m\u001b[0;34m(\u001b[0m\u001b[0;36m1\u001b[0m\u001b[0;34m)\u001b[0m\u001b[0;34m:\u001b[0m\u001b[0;34m\u001b[0m\u001b[0m\n\u001b[0;32m----> 8\u001b[0;31m     \u001b[0mN\u001b[0m\u001b[0;34m.\u001b[0m\u001b[0mSGD\u001b[0m\u001b[0;34m(\u001b[0m\u001b[0mX\u001b[0m\u001b[0;34m,\u001b[0m \u001b[0my\u001b[0m\u001b[0;34m,\u001b[0m \u001b[0;36m10\u001b[0m\u001b[0;34m**\u001b[0m\u001b[0;34m-\u001b[0m\u001b[0;36m3\u001b[0m\u001b[0;34m,\u001b[0m \u001b[0;36m100\u001b[0m\u001b[0;34m)\u001b[0m\u001b[0;34m\u001b[0m\u001b[0m\n\u001b[0m\u001b[1;32m      9\u001b[0m \u001b[0;31m#     ed = time.clock()\u001b[0m\u001b[0;34m\u001b[0m\u001b[0;34m\u001b[0m\u001b[0m\n\u001b[1;32m     10\u001b[0m \u001b[0;31m#     print(U, \" : \", int((-st + ed)//60), \"+\", (((-st + ed)/60)%1)*60)\u001b[0m\u001b[0;34m\u001b[0m\u001b[0;34m\u001b[0m\u001b[0m\n",
      "\u001b[0;32m<ipython-input-543-6bb85c4e6eb8>\u001b[0m in \u001b[0;36mSGD\u001b[0;34m(self, X, y, _epsislon, num_iterations)\u001b[0m\n\u001b[1;32m     50\u001b[0m             \u001b[0mcorrectionV\u001b[0m \u001b[0;34m=\u001b[0m \u001b[0;34m(\u001b[0m\u001b[0m_epsislon\u001b[0m\u001b[0;34m*\u001b[0m\u001b[0merrv\u001b[0m\u001b[0;34m)\u001b[0m\u001b[0;34m\u001b[0m\u001b[0m\n\u001b[1;32m     51\u001b[0m             \u001b[0mself\u001b[0m\u001b[0;34m.\u001b[0m\u001b[0mW\u001b[0m \u001b[0;34m=\u001b[0m \u001b[0mself\u001b[0m\u001b[0;34m.\u001b[0m\u001b[0mW\u001b[0m \u001b[0;34m-\u001b[0m \u001b[0mcorrectionW\u001b[0m\u001b[0;34m\u001b[0m\u001b[0m\n\u001b[0;32m---> 52\u001b[0;31m             \u001b[0mself\u001b[0m\u001b[0;34m.\u001b[0m\u001b[0mV\u001b[0m \u001b[0;34m=\u001b[0m \u001b[0mself\u001b[0m\u001b[0;34m.\u001b[0m\u001b[0mV\u001b[0m \u001b[0;34m-\u001b[0m \u001b[0mcorrectionV\u001b[0m\u001b[0;34m\u001b[0m\u001b[0m\n\u001b[0m\u001b[1;32m     53\u001b[0m \u001b[0;31m#         self.V = V\u001b[0m\u001b[0;34m\u001b[0m\u001b[0;34m\u001b[0m\u001b[0m\n\u001b[1;32m     54\u001b[0m \u001b[0;31m#         self.W = W\u001b[0m\u001b[0;34m\u001b[0m\u001b[0;34m\u001b[0m\u001b[0m\n",
      "\u001b[0;31mValueError\u001b[0m: operands could not be broadcast together with shapes (200,785) (201,785) "
     ]
    }
   ],
   "source": [
    "# X = np.array([[1,0],[1,1],[0,0]])\n",
    "# l = []\n",
    "import time\n",
    "N = Neural_Network()\n",
    "st = time.clock()\n",
    "ii = 0\n",
    "for ii in range(1):\n",
    "    N.SGD(X, y, 10**-3, 100)\n",
    "#     ed = time.clock()\n",
    "#     print(U, \" : \", int((-st + ed)//60), \"+\", (((-st + ed)/60)%1)*60)\n",
    "    o = 0\n",
    "    for i in range(100):\n",
    "        Z = N.for_pass(X[i].reshape((785,1)))\n",
    "        if (Z.argmax(Z) == (y[i].argmax(y[i]))):\n",
    "            o += 1\n",
    "    print(\"train = \", o)\n",
    "    o = 0\n",
    "    for i in range(100):\n",
    "        Z = N.for_pass(X[1000+i].reshape((785,1)))\n",
    "        if (Z.argmax(Z) == (y[1000+i].argmax(y[1000+i]))):\n",
    "            o += 1\n",
    "    print(\"val = \", o)\n",
    "    l.append(o)\n",
    "    ii += 1\n",
    "ed = time.clock()\n",
    "print(U, \" : \", int((-st + ed)//60), \"+\", (((-st + ed)/60)%1)*60)"
   ]
  },
  {
   "cell_type": "code",
   "execution_count": null,
   "metadata": {
    "collapsed": false
   },
   "outputs": [],
   "source": [
    "# X = np.array([[1,0],[1,1],[0,0]])\n",
    "# l = []\n",
    "import time\n",
    "N = Neural_Network()\n",
    "st = time.clock()\n",
    "ii = 0\n",
    "for ii in range(10):\n",
    "    N.SGD(X, y, 10**-3, 1000)\n",
    "#     ed = time.clock()\n",
    "#     print(U, \" : \", int((-st + ed)//60), \"+\", (((-st + ed)/60)%1)*60)\n",
    "    o = 0\n",
    "    for i in range(100):\n",
    "        Z = N.for_pass(X[i].reshape((785,1)))\n",
    "        if np.argmax(Z) == np.argmax(y[i]):\n",
    "            o += 1\n",
    "    print(\"train = \", o)\n",
    "    o = 0\n",
    "    for i in range(100):\n",
    "        Z = N.for_pass(X[1000+i].reshape((785,1)))\n",
    "        if np.argmax(Z) == np.argmax(y[1000+i]):\n",
    "            o += 1\n",
    "    print(\"val = \", o)\n",
    "    l.append(o)\n",
    "    ii += 1\n",
    "ed = time.clock()\n",
    "print(U, \" : \", int((-st + ed)//60), \"+\", (((-st + ed)/60)%1)*60)"
   ]
  },
  {
   "cell_type": "code",
   "execution_count": 494,
   "metadata": {
    "collapsed": false
   },
   "outputs": [
    {
     "name": "stdout",
     "output_type": "stream",
     "text": [
      "10\n"
     ]
    }
   ],
   "source": [
    "o = 0\n",
    "for i in range(100):\n",
    "    Z = N.for_pass(X[1000+i].reshape((785,1)))\n",
    "    if (Z.tolist().index(max(Z))) == (y[1000+i].tolist().index(max(y[1000+i]))):\n",
    "        o += 1\n",
    "print(o)"
   ]
  },
  {
   "cell_type": "code",
   "execution_count": 501,
   "metadata": {
    "collapsed": false
   },
   "outputs": [
    {
     "data": {
      "text/plain": [
       "6"
      ]
     },
     "execution_count": 501,
     "metadata": {},
     "output_type": "execute_result"
    }
   ],
   "source": [
    "# imp_W = N.W\n",
    "# imp_V = N.V"
   ]
  },
  {
   "cell_type": "markdown",
   "metadata": {},
   "source": [
    "####    COST FUNCTION:"
   ]
  },
  {
   "cell_type": "code",
   "execution_count": 4,
   "metadata": {
    "collapsed": true
   },
   "outputs": [],
   "source": [
    "def tanh(x):\n",
    "    return np.tanh(x)\n",
    "\n",
    "def dtanh(x):\n",
    "    return 1.0 - np.tanh(x)**2\n",
    "\n",
    "def L(Z, y):\n",
    "    return y[i] * np.log(Z[i])\n",
    "\n",
    "def J(h, y):\n",
    "    sum = 0\n",
    "    for i in range(len(h)):\n",
    "        sum += L(h[i], y[i])\n",
    "    return sum\n",
    "\n",
    "def softmax(x):\n",
    "#     return _softmax(np.exp(x) / np.sum(np.exp(x), axis=0))\n",
    "    z = np.exp(x) / np.sum(np.exp(x), axis=0)\n",
    "#     print(z)\n",
    "    return z"
   ]
  },
  {
   "cell_type": "markdown",
   "metadata": {},
   "source": [
    "####    HELPER FUNCTIONS: [Data Pre-Processing / cost functions]"
   ]
  },
  {
   "cell_type": "code",
   "execution_count": null,
   "metadata": {
    "collapsed": false
   },
   "outputs": [],
   "source": []
  },
  {
   "cell_type": "markdown",
   "metadata": {},
   "source": [
    "#### TESTING: {DECISION TREE}"
   ]
  },
  {
   "cell_type": "code",
   "execution_count": 462,
   "metadata": {
    "collapsed": false
   },
   "outputs": [
    {
     "data": {
      "text/plain": [
       "()"
      ]
     },
     "execution_count": 462,
     "metadata": {},
     "output_type": "execute_result"
    }
   ],
   "source": [
    "clf = DecisionTree()\n",
    "clf.train(X, y)\n",
    "print(classification_report(y_test, clf.predict(X_test)))"
   ]
  },
  {
   "cell_type": "markdown",
   "metadata": {},
   "source": [
    "#### TESTING: {RANDOM FOREST}"
   ]
  },
  {
   "cell_type": "code",
   "execution_count": null,
   "metadata": {
    "collapsed": false
   },
   "outputs": [],
   "source": [
    "clf = RandomForest()\n",
    "clf.train(X, y)\n",
    "print(classification_report(y_test, clf.predict(X_test)))\n",
    "test_clf(y_test, clf.predict(X_test))"
   ]
  },
  {
   "cell_type": "markdown",
   "metadata": {},
   "source": [
    "### Q.4"
   ]
  },
  {
   "cell_type": "markdown",
   "metadata": {},
   "source": [
    "#### DECISION-TREE:"
   ]
  },
  {
   "cell_type": "markdown",
   "metadata": {},
   "source": [
    "##### TRAINING:"
   ]
  },
  {
   "cell_type": "code",
   "execution_count": 24,
   "metadata": {
    "collapsed": false
   },
   "outputs": [
    {
     "name": "stdout",
     "output_type": "stream",
     "text": [
      "             precision    recall  f1-score   support\n",
      "\n",
      "          0       0.78      0.84      0.81     11629\n",
      "          1       0.83      0.77      0.80     12073\n",
      "\n",
      "avg / total       0.81      0.80      0.80     23702\n",
      "\n",
      "SUCESS!!!\n"
     ]
    },
    {
     "data": {
      "text/plain": [
       "0.8045312631845414"
      ]
     },
     "execution_count": 24,
     "metadata": {},
     "output_type": "execute_result"
    }
   ],
   "source": [
    "clf = DecisionTree(max_depth=20)\n",
    "clf.train(X, y)\n",
    "print(classification_report(y, clf.predict(X)))\n",
    "test_clf(y, clf.predict(X))"
   ]
  },
  {
   "cell_type": "markdown",
   "metadata": {},
   "source": [
    "##### VALIDATION:"
   ]
  },
  {
   "cell_type": "code",
   "execution_count": 25,
   "metadata": {
    "collapsed": false
   },
   "outputs": [
    {
     "name": "stdout",
     "output_type": "stream",
     "text": [
      "             precision    recall  f1-score   support\n",
      "\n",
      "          0       0.74      0.83      0.78      5794\n",
      "          1       0.82      0.72      0.77      6057\n",
      "\n",
      "avg / total       0.78      0.77      0.77     11851\n",
      "\n",
      "SUCESS!!!\n"
     ]
    },
    {
     "data": {
      "text/plain": [
       "0.7748713188760442"
      ]
     },
     "execution_count": 25,
     "metadata": {},
     "output_type": "execute_result"
    }
   ],
   "source": [
    "clf = DecisionTree()\n",
    "clf.train(X_train, y_train)\n",
    "print(classification_report(y_test, clf.predict(X_test)))\n",
    "test_clf(y_test, clf.predict(X_test))"
   ]
  },
  {
   "cell_type": "markdown",
   "metadata": {},
   "source": [
    "#### RANDOM-FOREST:"
   ]
  },
  {
   "cell_type": "markdown",
   "metadata": {},
   "source": [
    "##### TRAINING:"
   ]
  },
  {
   "cell_type": "code",
   "execution_count": 26,
   "metadata": {
    "collapsed": false
   },
   "outputs": [
    {
     "name": "stdout",
     "output_type": "stream",
     "text": [
      "             precision    recall  f1-score   support\n",
      "\n",
      "          0       0.76      0.88      0.82     11629\n",
      "          1       0.87      0.73      0.79     12073\n",
      "\n",
      "avg / total       0.81      0.81      0.80     23702\n",
      "\n",
      "SUCESS!!!\n"
     ]
    },
    {
     "data": {
      "text/plain": [
       "0.805881360222766"
      ]
     },
     "execution_count": 26,
     "metadata": {},
     "output_type": "execute_result"
    }
   ],
   "source": [
    "clf = RandomForest(size=35,max_depth=12)\n",
    "clf.train(X, y)\n",
    "print(classification_report(y, clf.predict(X)))\n",
    "test_clf(y, clf.predict(X))"
   ]
  },
  {
   "cell_type": "markdown",
   "metadata": {},
   "source": [
    "##### VALIDATION:"
   ]
  },
  {
   "cell_type": "code",
   "execution_count": 27,
   "metadata": {
    "collapsed": false
   },
   "outputs": [
    {
     "name": "stdout",
     "output_type": "stream",
     "text": [
      "             precision    recall  f1-score   support\n",
      "\n",
      "          0       0.74      0.86      0.80      5794\n",
      "          1       0.85      0.72      0.78      6057\n",
      "\n",
      "avg / total       0.80      0.79      0.79     11851\n",
      "\n",
      "SUCESS!!!\n"
     ]
    },
    {
     "data": {
      "text/plain": [
       "0.7881191460636233"
      ]
     },
     "execution_count": 27,
     "metadata": {},
     "output_type": "execute_result"
    }
   ],
   "source": [
    "clf = RandomForest(size=35,max_depth=12)\n",
    "clf.train(X_train, y_train)\n",
    "print(classification_report(y_test, clf.predict(X_test)))\n",
    "test_clf(y_test, clf.predict(X_test))"
   ]
  },
  {
   "cell_type": "markdown",
   "metadata": {},
   "source": [
    "### Q.5\n",
    "#### VISUALIZING:"
   ]
  },
  {
   "cell_type": "code",
   "execution_count": 26,
   "metadata": {
    "collapsed": false
   },
   "outputs": [],
   "source": [
    "tst = data['test_x']\n",
    "tst = np.insert(tst, tst.shape[1], 1, axis=1)"
   ]
  },
  {
   "cell_type": "code",
   "execution_count": 51,
   "metadata": {
    "collapsed": false
   },
   "outputs": [],
   "source": [
    "# pred = []\n",
    "# s = []\n",
    "# pred = clf.predict(tst)\n",
    "import pandas as pd\n",
    "pp = pd.DataFrame({'Category': pred})\n",
    "pp.index += 1\n",
    "pp.to_csv('sub2.csv')"
   ]
  }
 ],
 "metadata": {
  "anaconda-cloud": {},
  "kernelspec": {
   "display_name": "Python [conda root]",
   "language": "python",
   "name": "conda-root-py"
  },
  "language_info": {
   "codemirror_mode": {
    "name": "ipython",
    "version": 3
   },
   "file_extension": ".py",
   "mimetype": "text/x-python",
   "name": "python",
   "nbconvert_exporter": "python",
   "pygments_lexer": "ipython3",
   "version": "3.5.2"
  }
 },
 "nbformat": 4,
 "nbformat_minor": 1
}
